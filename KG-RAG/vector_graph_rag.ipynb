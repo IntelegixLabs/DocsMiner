{
 "cells": [
  {
   "cell_type": "code",
   "execution_count": 4,
   "metadata": {},
   "outputs": [],
   "source": [
    "from llama_index.core import SimpleDirectoryReader\n",
    "from dotenv import load_dotenv\n",
    "load_dotenv()\n",
    "from llama_index.core import Settings\n",
    "from IPython.display import Markdown, display\n",
    "from llama_index.core import StorageContext, load_index_from_storage\n",
    "from google.oauth2 import service_account\n",
    "from llama_index.llms.vertex import Vertex\n",
    "from llama_index.embeddings.vertex import VertexTextEmbedding\n",
    "import nest_asyncio\n",
    "nest_asyncio.apply()"
   ]
  },
  {
   "cell_type": "code",
   "execution_count": 5,
   "metadata": {},
   "outputs": [],
   "source": [
    "from llama_index.vector_stores.neo4jvector import Neo4jVectorStore\n",
    "from llama_index.core import VectorStoreIndex\n",
    "import os\n",
    "\n",
    "username = os.getenv(\"NEO4J_USERNAME\")\n",
    "password = os.getenv(\"NEO4J_PASSWORD\")\n",
    "url = os.getenv(\"NEO4J_URI\")"
   ]
  },
  {
   "cell_type": "code",
   "execution_count": 6,
   "metadata": {},
   "outputs": [],
   "source": [
    "# documents = SimpleDirectoryReader(\n",
    "#      input_files=[\"data/Graph_Retrieval-Augmented_Generation_A_Survey.pdf\"]\n",
    "# ).load_data()"
   ]
  },
  {
   "cell_type": "code",
   "execution_count": 7,
   "metadata": {},
   "outputs": [],
   "source": [
    "filename = \"credentials.json\"\n",
    "credentials: service_account.Credentials = (\n",
    "    service_account.Credentials.from_service_account_file(filename)\n",
    ")"
   ]
  },
  {
   "cell_type": "code",
   "execution_count": 8,
   "metadata": {},
   "outputs": [],
   "source": [
    "llm = Vertex(\n",
    "        model=\"gemini-pro\", \n",
    "        project=credentials.project_id, credentials=credentials,\n",
    "        max_tokens=8000\n",
    "    )\n",
    "    \n",
    "Settings.llm = llm\n",
    "Settings.chunk_size = 512"
   ]
  },
  {
   "cell_type": "code",
   "execution_count": 9,
   "metadata": {},
   "outputs": [],
   "source": [
    "embed_model = VertexTextEmbedding(\n",
    "    model_name=\"textembedding-gecko@003\",\n",
    "    project=credentials.project_id, credentials=credentials\n",
    ")\n",
    "\n",
    "Settings.embed_model = embed_model"
   ]
  },
  {
   "cell_type": "code",
   "execution_count": 10,
   "metadata": {},
   "outputs": [],
   "source": [
    "# Extract graph from documents\n",
    "embed_dim = 768\n",
    "\n",
    "neo4j_vector_hybrid = Neo4jVectorStore(\n",
    "    username, password, url, embed_dim, hybrid_search=True\n",
    ")\n",
    "\n",
    "storage_context = StorageContext.from_defaults(\n",
    "    vector_store=neo4j_vector_hybrid, persist_dir ='./storage_hybrid_gemini'\n",
    ")\n",
    "\n",
    "# index = VectorStoreIndex.from_documents(\n",
    "#     documents, storage_context=storage_context\n",
    "# )"
   ]
  },
  {
   "cell_type": "code",
   "execution_count": 11,
   "metadata": {},
   "outputs": [],
   "source": [
    "# index.storage_context.persist(persist_dir=\"./storage_hybrid_gemini\")\n",
    "index = load_index_from_storage(storage_context)"
   ]
  },
  {
   "cell_type": "code",
   "execution_count": 12,
   "metadata": {},
   "outputs": [
    {
     "name": "stderr",
     "output_type": "stream",
     "text": [
      "Received notification from DBMS server: {severity: WARNING} {code: Neo.ClientNotification.Statement.FeatureDeprecationWarning} {category: DEPRECATION} {title: This feature is deprecated and will be removed in future versions.} {description: CALL subquery without a variable scope clause is now deprecated. Use CALL () { ... }} {position: line: 1, column: 1, offset: 0} for query: 'CALL { CALL db.index.vector.queryNodes($index, $k, $embedding) YIELD node, score WITH collect({node:node, score:score}) AS nodes, max(score) AS max UNWIND nodes AS n RETURN n.node AS node, (n.score / max) AS score UNION CALL db.index.fulltext.queryNodes($keyword_index, $query, {limit: $k}) YIELD node, score WITH collect({node:node, score:score}) AS nodes, max(score) AS max UNWIND nodes AS n RETURN n.node AS node, (n.score / max) AS score } WITH node, max(score) AS score ORDER BY score DESC LIMIT $k RETURN node.`text` AS text, score, node.id AS id, node {.*, `text`: Null, `embedding`: Null, id: Null } AS metadata'\n"
     ]
    },
    {
     "name": "stdout",
     "output_type": "stream",
     "text": [
      "Graph-Based Indexing (G-Indexing). Graph-Based Indexing constitutes the initial phase of\n",
      "GraphRAG, aimed at identifying or constructing a graph database Gthat aligns with downstream\n",
      "tasks and establishing indices on it. The graph database can originate from public knowledge\n",
      "graphs [ 2,7,91,131,138,151], graph data [ 112], or be constructed based on proprietary data\n",
      "sources such as textual [ 25,43,80,160] or other forms of data [ 169]. The indexing process typi-\n",
      "cally includes mapping node and edge properties, establishing pointers between connected nodes,\n",
      "and organizing data to support fast traversal and retrieval operations. Indexing determines the\n",
      "granularity of the subsequent retrieval stage, playing a crucial role in enhancing query efficiency.\n",
      "Graph-Guided Retrieval (G-Retrieval). Following graph-based indexing, the graph-guided retrieval\n",
      "phase focuses on extracting pertinent information from the graph database in response to user\n",
      "queries or input. Specifically, given a user query 𝑞which is expressed in natural language, the\n",
      "retrieval stage aims to extract the most relevant elements (e.g., entities, triplets, paths, subgraphs)\n",
      "from knowledge graphs, which can be formulated as\n",
      "𝐺∗=G-Retriever(𝑞,G)\n",
      "=arg max\n",
      "𝐺⊆R(G)𝑝𝜃(𝐺|𝑞,G)\n",
      "=arg max\n",
      "𝐺⊆R(G)Sim(𝑞,𝐺),(5)\n",
      "where𝐺∗is the optimal retrieved graph elements and Sim(·,·)is a function that measures the\n",
      "semantic similarity between user queries and the graph data. R(·) represents a function to narrow\n",
      "down the search range of subgraphs, considering the efficiency.\n",
      "Graph-Enhanced Generation (G-Generation). The graph-enhanced generation phase involves\n",
      "synthesizing meaningful outputs or responses based on the retrieved graph data. This could\n",
      "encompass answering user queries, generating reports, etc.\n",
      "2020. What Dis-\n",
      "ease does this Patient Have? A Large-scale Open Domain Question Answering Dataset from Medical Exams.\n",
      "arXiv:2009.13081 [cs.CL] https://arxiv.org/abs/2009.13081\n",
      "[68] Mandar Joshi, Eunsol Choi, Daniel S. Weld, and Luke Zettlemoyer. 2017. TriviaQA: A Large Scale Distantly Supervised\n",
      "Challenge Dataset for Reading Comprehension. In Proceedings of the 55th Annual Meeting of the Association for\n",
      "Computational Linguistics, ACL 2017, Vancouver, Canada, July 30 - August 4, Volume 1: Long Papers . 1601–1611.\n",
      "[69] Vladimir Karpukhin, Barlas Oguz, Sewon Min, Patrick S. H. Lewis, Ledell Wu, Sergey Edunov, Danqi Chen, and Wen-\n",
      "tau Yih. 2020. Dense Passage Retrieval for Open-Domain Question Answering. In Proceedings of the 2020 Conference\n",
      "on Empirical Methods in Natural Language Processing, EMNLP 2020, Online, November 16-20, 2020 . 6769–6781.\n"
     ]
    }
   ],
   "source": [
    "# Define retriever\n",
    "retriever = index.as_retriever(\n",
    "    include_text=False,  # include source text in returned nodes, default True\n",
    ")\n",
    "results = retriever.retrieve(\"What is Graph Retrieval-Augmented Generation?\")\n",
    "for record in results:\n",
    "    print(record.text)"
   ]
  },
  {
   "cell_type": "code",
   "execution_count": 13,
   "metadata": {},
   "outputs": [
    {
     "name": "stderr",
     "output_type": "stream",
     "text": [
      "Received notification from DBMS server: {severity: WARNING} {code: Neo.ClientNotification.Statement.FeatureDeprecationWarning} {category: DEPRECATION} {title: This feature is deprecated and will be removed in future versions.} {description: CALL subquery without a variable scope clause is now deprecated. Use CALL () { ... }} {position: line: 1, column: 1, offset: 0} for query: 'CALL { CALL db.index.vector.queryNodes($index, $k, $embedding) YIELD node, score WITH collect({node:node, score:score}) AS nodes, max(score) AS max UNWIND nodes AS n RETURN n.node AS node, (n.score / max) AS score UNION CALL db.index.fulltext.queryNodes($keyword_index, $query, {limit: $k}) YIELD node, score WITH collect({node:node, score:score}) AS nodes, max(score) AS max UNWIND nodes AS n RETURN n.node AS node, (n.score / max) AS score } WITH node, max(score) AS score ORDER BY score DESC LIMIT $k RETURN node.`text` AS text, score, node.id AS id, node {.*, `text`: Null, `embedding`: Null, id: Null } AS metadata'\n"
     ]
    },
    {
     "data": {
      "text/markdown": [
       "Graph Retrieval-Augmented Generation (GraphRAG) is a framework that combines graph-based indexing, graph-guided retrieval, and graph-enhanced generation to answer user queries or generate responses. \n",
       "\n",
       "Here's a breakdown of the three phases:\n",
       "\n",
       "**1. Graph-Based Indexing (G-Indexing):**\n",
       "- This phase involves identifying or constructing a graph database that aligns with the downstream tasks.\n",
       "- The graph database can be sourced from public knowledge graphs, graph data, or constructed from proprietary data sources.\n",
       "- The indexing process includes mapping node and edge properties, establishing pointers between connected nodes, and organizing data for efficient retrieval.\n",
       "\n",
       "**2. Graph-Guided Retrieval (G-Retrieval):**\n",
       "- This phase focuses on extracting relevant information from the graph database in response to user queries.\n",
       "- Given a user query, the retrieval stage aims to extract the most relevant elements (entities, triplets, paths, subgraphs) from the knowledge graph.\n",
       "- This is formulated as an optimization problem to find the optimal retrieved graph elements that maximize the semantic similarity between the user query and the graph data.\n",
       "\n",
       "**3. Graph-Enhanced Generation (G-Generation):**\n",
       "- This phase involves synthesizing meaningful outputs or responses based on the retrieved graph data.\n",
       "- This could encompass answering user queries, generating reports, or other tasks.\n",
       "\n",
       "Overall, GraphRAG leverages the power of graph databases to enhance the retrieval and generation of information, leading to more accurate and informative responses.\n"
      ],
      "text/plain": [
       "<IPython.core.display.Markdown object>"
      ]
     },
     "metadata": {},
     "output_type": "display_data"
    }
   ],
   "source": [
    "# Question answering\n",
    "query_engine = index.as_query_engine(include_text=True)\n",
    "response = query_engine.query(\"What is Graph Retrieval-Augmented Generation?\")\n",
    "display(Markdown(f\"{response}\"))"
   ]
  },
  {
   "cell_type": "code",
   "execution_count": 14,
   "metadata": {},
   "outputs": [
    {
     "name": "stderr",
     "output_type": "stream",
     "text": [
      "Received notification from DBMS server: {severity: WARNING} {code: Neo.ClientNotification.Statement.FeatureDeprecationWarning} {category: DEPRECATION} {title: This feature is deprecated and will be removed in future versions.} {description: CALL subquery without a variable scope clause is now deprecated. Use CALL () { ... }} {position: line: 1, column: 1, offset: 0} for query: 'CALL { CALL db.index.vector.queryNodes($index, $k, $embedding) YIELD node, score WITH collect({node:node, score:score}) AS nodes, max(score) AS max UNWIND nodes AS n RETURN n.node AS node, (n.score / max) AS score UNION CALL db.index.fulltext.queryNodes($keyword_index, $query, {limit: $k}) YIELD node, score WITH collect({node:node, score:score}) AS nodes, max(score) AS max UNWIND nodes AS n RETURN n.node AS node, (n.score / max) AS score } WITH node, max(score) AS score ORDER BY score DESC LIMIT $k RETURN node.`text` AS text, score, node.id AS id, node {.*, `text`: Null, `embedding`: Null, id: Null } AS metadata'\n"
     ]
    },
    {
     "data": {
      "text/markdown": [
       "## Query-Focused Summarization (QFS) with Graph Retrieval-Augmented Generation (GraphRAG)\n",
       "\n",
       "Graph Retrieval-Augmented Generation (GraphRAG) is a powerful approach for Query-Focused Summarization (QFS). Here's how it works:\n",
       "\n",
       "**1. Graph-Based Indexing (G-Indexing):**\n",
       "\n",
       "* Construct a graph database containing relevant information for the domain of interest.\n",
       "* Represent entities, concepts, and relationships as nodes and edges in the graph.\n",
       "* Annotate the graph with additional information like entity types, attributes, and relationships.\n",
       "\n",
       "**2. Graph-Guided Retrieval (G-Retrieval):**\n",
       "\n",
       "* Given a user query, identify relevant nodes and subgraphs in the graph database.\n",
       "* Utilize graph algorithms like shortest path, random walk, or community detection to retrieve information related to the query.\n",
       "* Consider the query's keywords, entities, and relationships to guide the retrieval process.\n",
       "\n",
       "**3. Graph-Enhanced Generation (G-Generation):**\n",
       "\n",
       "* Use the retrieved graph elements as input to a text generation model.\n",
       "* The model can be a neural network like a Transformer or a sequence-to-sequence model.\n",
       "* The model generates a summary that is focused on the user's query and incorporates information from the retrieved graph.\n",
       "\n",
       "**Benefits of GraphRAG for QFS:**\n",
       "\n",
       "* **Comprehensive Information Retrieval:** Graphs capture relationships between entities, enabling the retrieval of relevant information beyond individual documents.\n",
       "* **Abstraction and Summarization:** Graph data offers a concise representation of information, reducing verbosity and improving summarization quality.\n",
       "* **Contextual Understanding:** GraphRAG considers the broader context within the graph structure, leading to more accurate and informative summaries.\n",
       "\n",
       "**Additional Resources:**\n",
       "\n",
       "* **Graph Retrieval-Augmented Generation: A Survey:** https://arxiv.org/abs/2307.07352\n",
       "* **Query Graph Generation for Answering Multi-hop Complex Questions from Knowledge Bases:** https://aclanthology.org/2020.acl-main.100\n",
       "* **Natural Questions: A Benchmark for Question Answering Research:** https://aclanthology.org/2019.naacl-main.355\n",
       "\n",
       "**Note:** This is a general overview of GraphRAG for QFS. Specific implementations and techniques may vary depending on the application and dataset."
      ],
      "text/plain": [
       "<IPython.core.display.Markdown object>"
      ]
     },
     "metadata": {},
     "output_type": "display_data"
    }
   ],
   "source": [
    "response = query_engine.query(\"How to do Query-Focused Summarization (QFS)?\")\n",
    "display(Markdown(f\"{response}\"))"
   ]
  }
 ],
 "metadata": {
  "kernelspec": {
   "display_name": "venv",
   "language": "python",
   "name": "python3"
  },
  "language_info": {
   "codemirror_mode": {
    "name": "ipython",
    "version": 3
   },
   "file_extension": ".py",
   "mimetype": "text/x-python",
   "name": "python",
   "nbconvert_exporter": "python",
   "pygments_lexer": "ipython3",
   "version": "3.10.4"
  }
 },
 "nbformat": 4,
 "nbformat_minor": 2
}
