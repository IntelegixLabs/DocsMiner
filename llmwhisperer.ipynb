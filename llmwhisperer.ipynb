{
 "cells": [
  {
   "cell_type": "code",
   "execution_count": 4,
   "metadata": {},
   "outputs": [
    {
     "data": {
      "text/plain": [
       "True"
      ]
     },
     "execution_count": 4,
     "metadata": {},
     "output_type": "execute_result"
    }
   ],
   "source": [
    "from unstract.llmwhisperer.client import LLMWhispererClient\n",
    "import os\n",
    "from dotenv import load_dotenv\n",
    "load_dotenv()"
   ]
  },
  {
   "cell_type": "code",
   "execution_count": 5,
   "metadata": {},
   "outputs": [
    {
     "name": "stderr",
     "output_type": "stream",
     "text": [
      "2024-06-26 22:03:11,818 - unstract.llmwhisperer.client - DEBUG - logging_level set to DEBUG\n",
      "2024-06-26 22:03:11,820 - unstract.llmwhisperer.client - DEBUG - base_url set to https://llmwhisperer-api.unstract.com/v1\n",
      "2024-06-26 22:03:11,823 - unstract.llmwhisperer.client - DEBUG - api_key set to 1406xxxxxxxxxxxxxxxxxxxxxxxxxxxx\n"
     ]
    }
   ],
   "source": [
    "LLM_WHISPERER_API_KEY = os.getenv('LLM_WHISPERER_API_KEY')\n",
    "client = LLMWhispererClient(base_url=\"https://llmwhisperer-api.unstract.com/v1\", api_key=LLM_WHISPERER_API_KEY)"
   ]
  },
  {
   "cell_type": "code",
   "execution_count": 6,
   "metadata": {},
   "outputs": [
    {
     "name": "stderr",
     "output_type": "stream",
     "text": [
      "2024-06-26 22:06:12,690 - unstract.llmwhisperer.client - DEBUG - get_usage_info called\n",
      "2024-06-26 22:06:12,690 - unstract.llmwhisperer.client - DEBUG - url: https://llmwhisperer-api.unstract.com/v1/get-usage-info\n",
      "2024-06-26 22:06:15,330 - unstract.llmwhisperer.client - DEBUG - whisper called\n",
      "2024-06-26 22:06:15,335 - unstract.llmwhisperer.client - DEBUG - api_url: https://llmwhisperer-api.unstract.com/v1/whisper\n",
      "2024-06-26 22:06:15,335 - unstract.llmwhisperer.client - DEBUG - params: {'url': '', 'processing_mode': 'ocr', 'output_mode': 'line-printer', 'page_seperator': '<<<', 'force_text_processing': False, 'pages_to_extract': '', 'timeout': 200, 'store_metadata_for_highlighting': False, 'median_filter_size': 0, 'gaussian_blur_radius': 0, 'ocr_provider': 'advanced', 'line_splitter_tolerance': 0.4, 'horizontal_stretch_factor': 1.0}\n"
     ]
    }
   ],
   "source": [
    "# Get usage info\n",
    "usage_info = client.get_usage_info()\n",
    "\n",
    "# Process a document\n",
    "# Extracted text is available in the 'extracted_text' field of the result\n",
    "whisper = client.whisper(file_path=r\"C:\\Users\\jayit\\Downloads\\invoice.pdf\")"
   ]
  },
  {
   "cell_type": "code",
   "execution_count": 9,
   "metadata": {},
   "outputs": [
    {
     "name": "stdout",
     "output_type": "stream",
     "text": [
      "\n",
      "\n",
      "    amazon.in                                                                   Tax Invoice/Bill of Supply/Cash Memo \n",
      "                                                                                                                  (Original for Recipient) \n",
      "\n",
      "   Digitally Signed by DS CLOUDTAIL INDIA PRIVATE LIMITED 2 \n",
      "   Date: 2022.03.20 12:06:26 UTC \n",
      "   Reason: Invoice \n",
      "\n",
      "Sold By :                                                                                                                     Billing Address : \n",
      "Cloudtail India Private Limited                                                                                           jayita bhattacharyya \n",
      "* \n",
      "  Khasra numbers:444(P),445(P),459(P),                                                                              208, sreepally main road \n",
      "460,461,462,463,464,                                                                                  asansol, WEST BENGAL, 713304 \n",
      "                                                                                                                                                     IN \n",
      "465,466,467,468,469,470,471,472,473,474,,, \n",
      "75(P),476,477,478, 479,480,                                                                                                 State/UT Code: 19 \n",
      "481,482,483(P),491,492,493(P) Village - \n",
      "Bhaukapur, \n",
      "Lucknow, Uttar Pradesh, 226401                                                                                            Shipping Address : \n",
      "IN                                                                                                                       jayita bhattacharyya \n",
      "                                                                                                                          jayita bhattacharyya \n",
      "                                                                                                                    208, sreepally main road \n",
      "PAN No: AAQCS4259Q                                                                                    asansol, WEST BENGAL, 713304 \n",
      "                                                                                                                                                     IN \n",
      "GST Registration No: 09AAQCS4259Q1Z8 \n",
      "                                                                                                                           State/UT Code: 19 \n",
      "FSSAI License No.                                                                                   Place of supply: WEST BENGAL \n",
      "10015011002613                                                                                      Place of delivery: WEST BENGAL \n",
      "\n",
      "Order Number: 406-0079437-7739529                                                                  Invoice Number : LKO1-10255010 \n",
      "Order Date: 20.03.2022                                                                        Invoice Details : UP-LKO1-1004-2122 \n",
      "                                                                                                                 Invoice Date : 20.03.2022 \n",
      "\n",
      " SI.                                                                             Unit              Net          Tax Tax      Tax           Total \n",
      "No Description                                                                   Price        Qty Amount Rate Type Amount                  Amount \n",
      "  1 Prestige Royale Plus Schott Glass 3 Burner Gas Stove, \n",
      "     Manual Ignition, Black | B01KZVPZAS ( B01KZVPZAS )                          â¹5,926.27 1 â¹5,926.27 18% |IGST â¹1,066.73 â¹6,993.00 \n",
      "     HSN:73211110 \n",
      " TOTAL:                                                                                                                      â¹1,066.73 â¹6,993.00 \n",
      "\n",
      "Amount in Words: \n",
      "Six Thousand Nine Hundred Ninety-three only \n",
      "\n",
      "                                                                                                For Cloudtail India Private Limited: \n",
      "\n",
      "                                                                                                                      Authorized Signatory \n",
      "\n",
      "Whether tax is payable under reverse charge - No \n",
      "\n",
      " Payment Transaction ID:                                  Date & Time: 20/03/2022, 13:35:39 \n",
      " 11113AtNhKnrOROS7ieaklgu4                                hrs                                    Invoice Value:            Mode of Payment: Gift Card \n",
      "                                                                                                 6,993.00 \n",
      "                                                          Date & Time: 20/03/2022, 13:35:35                                Mode of Payment: Debit \n",
      " Payment Transaction ID: 2dPdCI0n3MKjb3nw3Yrq             hrs                                                              Card \n",
      "\n",
      "                   *ASSPL-Amazon Seller Services Pvt. Ltd., ARIPL-Amazon Retail India Pvt. Ltd. (only where Amazon Retail India Pvt. Ltd. fulfillment center is co-located) \n",
      "                 Customers desirous of availing input GST credit are requested to create a Business account and purchase on Amazon.in/business from Business eligible offers \n",
      "                                                       Please note that this invoice is not a demand for payment \n",
      "                                                                                                                                                  Page 1 of 1 \n",
      "<<<\n",
      "\n"
     ]
    }
   ],
   "source": [
    "extracted_text = whisper[\"extracted_text\"]\n",
    "print(extracted_text)"
   ]
  },
  {
   "cell_type": "code",
   "execution_count": null,
   "metadata": {},
   "outputs": [],
   "source": []
  },
  {
   "cell_type": "code",
   "execution_count": 10,
   "metadata": {},
   "outputs": [],
   "source": [
    "# Get the status of a whisper operation\n",
    "# whisper_hash is available in the 'whisper_hash' field of the result of the whisper operation\n",
    "# status = client.whisper_status(whisper_hash)\n",
    "\n",
    "# Retrieve the result of a whisper operation\n",
    "# whisper_hash is available in the 'whisper_hash' field of the result of the whisper operation\n",
    "# whisper = client.whisper_retrieve(whisper_hash)"
   ]
  },
  {
   "cell_type": "code",
   "execution_count": null,
   "metadata": {},
   "outputs": [],
   "source": []
  }
 ],
 "metadata": {
  "kernelspec": {
   "display_name": "venv",
   "language": "python",
   "name": "python3"
  },
  "language_info": {
   "codemirror_mode": {
    "name": "ipython",
    "version": 3
   },
   "file_extension": ".py",
   "mimetype": "text/x-python",
   "name": "python",
   "nbconvert_exporter": "python",
   "pygments_lexer": "ipython3",
   "version": "3.10.4"
  }
 },
 "nbformat": 4,
 "nbformat_minor": 2
}
